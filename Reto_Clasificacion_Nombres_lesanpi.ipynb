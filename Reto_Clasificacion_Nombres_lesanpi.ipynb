{
  "nbformat": 4,
  "nbformat_minor": 0,
  "metadata": {
    "colab": {
      "name": "Reto_Clasificacion_Nombres_lesanpi",
      "provenance": [],
      "collapsed_sections": [],
      "toc_visible": true,
      "authorship_tag": "ABX9TyMYd74AiesIk46U9rmyzosp",
      "include_colab_link": true
    },
    "kernelspec": {
      "name": "python3",
      "display_name": "Python 3"
    }
  },
  "cells": [
    {
      "cell_type": "markdown",
      "metadata": {
        "id": "view-in-github",
        "colab_type": "text"
      },
      "source": [
        "<a href=\"https://colab.research.google.com/github/lesanpi/Clasificacion-de-genero-por-nombres./blob/master/Reto_Clasificacion_Nombres_lesanpi.ipynb\" target=\"_parent\"><img src=\"https://colab.research.google.com/assets/colab-badge.svg\" alt=\"Open In Colab\"/></a>"
      ]
    },
    {
      "cell_type": "markdown",
      "metadata": {
        "id": "RXFMNFzmroTa",
        "colab_type": "text"
      },
      "source": [
        "# **Importamos Pandas, Numpy, NLTK y Random**\n",
        "\n",
        "**Tambien hacer un git clone del repositorio en github.**\n"
      ]
    },
    {
      "cell_type": "code",
      "metadata": {
        "id": "a_w5NMvBrgpQ",
        "colab_type": "code",
        "colab": {
          "base_uri": "https://localhost:8080/",
          "height": 34
        },
        "outputId": "816a8bc9-7f57-4ee8-9646-b0a7a960a6f6"
      },
      "source": [
        "import pandas as pd\n",
        "import numpy as np\n",
        "import nltk, random\n",
        "!git clone https://github.com/jvalhondo/spanish-names-surnames"
      ],
      "execution_count": 42,
      "outputs": [
        {
          "output_type": "stream",
          "text": [
            "fatal: destination path 'spanish-names-surnames' already exists and is not an empty directory.\n"
          ],
          "name": "stdout"
        }
      ]
    },
    {
      "cell_type": "markdown",
      "metadata": {
        "id": "2uXymvbsuTF_",
        "colab_type": "text"
      },
      "source": [
        "# **Cargamos la Data.**\n",
        "\n",
        "Si vemos en google colab se cargaron diferentes archivos .csv que contienen los nombres masculinos y femeninos por separado.\n",
        "\n",
        "Lo que hice, fue crear una funcion que dada el path del archivo, leyera, sacara los nombres y segun el genero que le indicaramos creara un array con el (nombre, genero).\n",
        "\n",
        "Se unio los datos de nombres masculinos y femeninos y se hizo un shuffle para que no quedaran ordenados por genero.\n"
      ]
    },
    {
      "cell_type": "code",
      "metadata": {
        "id": "lbqDwFd-r2Un",
        "colab_type": "code",
        "colab": {
          "base_uri": "https://localhost:8080/",
          "height": 187
        },
        "outputId": "ff7c6735-351c-4874-9185-dc1c882514c5"
      },
      "source": [
        "def fromCSVtoArray(dataPath, genre):\n",
        "  x_names = pd.read_csv(dataPath)\n",
        "  x_names = x_names.dropna(axis = 0)\n",
        "  x_names = x_names['name']\n",
        "  x_names = np.asarray(x_names)\n",
        "\n",
        "  return [(name, genre) for name in x_names] \n",
        "\n",
        "female = fromCSVtoArray('/content/spanish-names-surnames/female_names.csv', 'female')\n",
        "male = fromCSVtoArray('/content/spanish-names-surnames/male_names.csv', 'male')\n",
        "data = female + male\n",
        "\n",
        "random.shuffle(data)\n",
        "data[:10]"
      ],
      "execution_count": 43,
      "outputs": [
        {
          "output_type": "execute_result",
          "data": {
            "text/plain": [
              "[('MARIE CHRISTINE', 'female'),\n",
              " ('ALICIA ANTONIA', 'female'),\n",
              " ('LORENA ESPERANZA', 'female'),\n",
              " ('IONELA LAVINIA', 'female'),\n",
              " ('NELE', 'female'),\n",
              " ('ZEINEBOU', 'female'),\n",
              " ('CARMEN ELISABET', 'female'),\n",
              " ('XIAOBO', 'male'),\n",
              " ('SANDRA DANIELA', 'female'),\n",
              " ('VALENTIN MIGUEL', 'male')]"
            ]
          },
          "metadata": {
            "tags": []
          },
          "execution_count": 43
        }
      ]
    },
    {
      "cell_type": "markdown",
      "metadata": {
        "id": "fW6PU-WNu7XA",
        "colab_type": "text"
      },
      "source": [
        "Podemos guardar el array de nuestros datos, de tal forma siempre trabajaremos con el mismo dataset de entrenamiento y de test cuando se separe."
      ]
    },
    {
      "cell_type": "code",
      "metadata": {
        "id": "4D7YSs24uAHd",
        "colab_type": "code",
        "colab": {}
      },
      "source": [
        "#np.save('nombres.npy', data)"
      ],
      "execution_count": 44,
      "outputs": []
    },
    {
      "cell_type": "code",
      "metadata": {
        "id": "6KmMSNQ6uDXF",
        "colab_type": "code",
        "colab": {}
      },
      "source": [
        "data = np.load('nombres.npy')"
      ],
      "execution_count": 45,
      "outputs": []
    },
    {
      "cell_type": "markdown",
      "metadata": {
        "id": "LhodEHbgvTNV",
        "colab_type": "text"
      },
      "source": [
        "# **Indicaremos las funciones que utilizamos para obtener los atributos**\n",
        "\n",
        "\n",
        "* ultimaLetra: Solo utiliza la ultima letra.\n",
        "* atributos: Primera y ultima letra.\n",
        "* atributos1: Primer y ultima letra, conteo de cuantas letras, y si contiene o no una letra.\n",
        "* atributos2: Separa los nombres con split(' '), para trabajar con el segundo nombre en caso de que lo tenga. Aplica las mismas funciones que atributos1 pero almacena tanto del segundo como el primer nombre. \n",
        "* atributos3: Utiliza la misma logica que atributos2, solo que en vez de analizar todas las letras del abecedario, recorre solamente las vocales.\n",
        "\n",
        "**Actulizacion 1.**\n",
        "\n",
        "* atributos4: Utiliza la misma logica que atributos3, pero agrega atributos que describen si la primera y si la ultima letra es vocal en el primer y segundo nombre.  \n",
        "* atributos5: Utiliza lo mismo que atributos4, solo que indica si tiene un segundo nombre. \n",
        "* atributos6: Utiliza lo mismo que atributos4, solo que indica la longitud de los nombres"
      ]
    },
    {
      "cell_type": "code",
      "metadata": {
        "id": "R2aBUkbwr_fB",
        "colab_type": "code",
        "colab": {}
      },
      "source": [
        "def ultimaLetra(nombre):\n",
        "    atrib = {}\n",
        "    atrib[\"ultima_letra\"] = nombre[-1].lower()\n",
        "    \n",
        "    return atrib"
      ],
      "execution_count": 46,
      "outputs": []
    },
    {
      "cell_type": "code",
      "metadata": {
        "id": "DGvzEF3lsBKt",
        "colab_type": "code",
        "colab": {}
      },
      "source": [
        "def atributos(nombre):\n",
        "    atrib = {}\n",
        "    atrib[\"primera_letra\"] = nombre[0].lower()\n",
        "    atrib[\"ultima_letra\"] = nombre[-1].lower()\n",
        "    \n",
        "    return atrib"
      ],
      "execution_count": 47,
      "outputs": []
    },
    {
      "cell_type": "code",
      "metadata": {
        "id": "g4AQsoX5sDZQ",
        "colab_type": "code",
        "colab": {}
      },
      "source": [
        "def atributos1(nombre):\n",
        "    atrib = {}\n",
        "    atrib[\"primera_letra\"] = nombre[0].lower()\n",
        "    atrib[\"ultima_letra\"] = nombre[-1].lower()\n",
        "    for letra in 'abcdefghijklmnopqrstuvwxyz':\n",
        "        atrib[\"count({})\".format(letra)] = nombre.lower().count(letra)\n",
        "        atrib[\"has({})\".format(letra)] = (letra in nombre.lower())\n",
        "    return atrib"
      ],
      "execution_count": 48,
      "outputs": []
    },
    {
      "cell_type": "code",
      "metadata": {
        "id": "ooUrg5zmsFeu",
        "colab_type": "code",
        "colab": {}
      },
      "source": [
        "def atributos2(nombre):\n",
        "    primerSegundoNombre = nombre.split(' ')\n",
        "\n",
        "    atrib = {}\n",
        "    for i in range(len(primerSegundoNombre)):\n",
        "      atrib[\"primera_letra_{}\".format(i + 1)] = primerSegundoNombre[i][0].lower()\n",
        "      atrib[\"ultima_letra_{}\".format(i + 1)] = primerSegundoNombre[i][-1].lower()\n",
        "      for letra in 'abcdefghijklmnopqrstuvwxyz':\n",
        "          atrib[\"count({})_{}\".format(letra, i + 1)] = primerSegundoNombre[i].lower().count(letra)\n",
        "          atrib[\"has({})_{}\".format(letra, i + 1)] = (letra in primerSegundoNombre[i].lower())\n",
        "    return atrib"
      ],
      "execution_count": 49,
      "outputs": []
    },
    {
      "cell_type": "code",
      "metadata": {
        "id": "D_oDlBtAxegj",
        "colab_type": "code",
        "colab": {}
      },
      "source": [
        "def atributos3(nombre):\n",
        "    primerSegundoNombre = nombre.split(' ')\n",
        "\n",
        "    atrib = {}\n",
        "    for i in range(len(primerSegundoNombre)):\n",
        "      atrib[\"primera_letra_{}\".format(i + 1)] = primerSegundoNombre[i][0].lower()\n",
        "      atrib[\"ultima_letra_{}\".format(i + 1)] = primerSegundoNombre[i][-1].lower()\n",
        "      for letra in 'aeiou':\n",
        "          atrib[\"count({})_{}\".format(letra, i + 1)] = primerSegundoNombre[i].lower().count(letra)\n",
        "          atrib[\"has({})_{}\".format(letra, i + 1)] = (letra in primerSegundoNombre[i].lower())\n",
        "    return atrib"
      ],
      "execution_count": 50,
      "outputs": []
    },
    {
      "cell_type": "code",
      "metadata": {
        "id": "3ZWsPNzA2pTA",
        "colab_type": "code",
        "colab": {}
      },
      "source": [
        "def atributos4(nombre):\n",
        "    primerSegundoNombre = nombre.split(' ')\n",
        "\n",
        "    atrib = {}\n",
        "    for i in range(len(primerSegundoNombre)):\n",
        "      atrib[\"primera_letra_{}\".format(i + 1)] = primerSegundoNombre[i][0].lower()\n",
        "      atrib[\"primera_letra_vocal_{}\".format(i + 1)] = primerSegundoNombre[i][0].lower() in 'aieou'\n",
        "      atrib[\"ultima_letra_vocal_{}\".format(i + 1)] = primerSegundoNombre[i][-1].lower() in 'aieou'\n",
        "      atrib[\"ultima_letra_{}\".format(i + 1)] = primerSegundoNombre[i][-1].lower()\n",
        "      for letra in 'aeiou':\n",
        "          atrib[\"count({})_{}\".format(letra, i + 1)] = primerSegundoNombre[i].lower().count(letra)\n",
        "          atrib[\"has({})_{}\".format(letra, i + 1)] = (letra in primerSegundoNombre[i].lower())\n",
        "    return atrib"
      ],
      "execution_count": 58,
      "outputs": []
    },
    {
      "cell_type": "code",
      "metadata": {
        "id": "q2RzwuHx2_k3",
        "colab_type": "code",
        "colab": {}
      },
      "source": [
        "def atributos5(nombre):\n",
        "    primerSegundoNombre = nombre.split(' ')\n",
        "\n",
        "    atrib = {}\n",
        "    atrib[\"segundo_nombre\"] = len(primerSegundoNombre) > 1\n",
        "    for i in range(len(primerSegundoNombre)):\n",
        "      atrib[\"primera_letra_{}\".format(i + 1)] = primerSegundoNombre[i][0].lower()\n",
        "      atrib[\"primera_letra_vocal_{}\".format(i + 1)] = primerSegundoNombre[i][0].lower() in 'aieou'\n",
        "      atrib[\"ultima_letra_vocal_{}\".format(i + 1)] = primerSegundoNombre[i][-1].lower() in 'aieou'\n",
        "      atrib[\"ultima_letra_{}\".format(i + 1)] = primerSegundoNombre[i][-1].lower()\n",
        "      for letra in 'aeiou':\n",
        "          atrib[\"count({})_{}\".format(letra, i + 1)] = primerSegundoNombre[i].lower().count(letra)\n",
        "          atrib[\"has({})_{}\".format(letra, i + 1)] = (letra in primerSegundoNombre[i].lower())\n",
        "    return atrib"
      ],
      "execution_count": 61,
      "outputs": []
    },
    {
      "cell_type": "code",
      "metadata": {
        "id": "nr3AJ0m46nyM",
        "colab_type": "code",
        "colab": {}
      },
      "source": [
        "def atributos6(nombre):\n",
        "    primerSegundoNombre = nombre.split(' ')\n",
        "\n",
        "    atrib = {}\n",
        "    \n",
        "    for i in range(len(primerSegundoNombre)):\n",
        "      atrib[\"longitud_{}.format(i + 1)\"] = len(primerSegundoNombre[i])\n",
        "      atrib[\"primera_letra_{}\".format(i + 1)] = primerSegundoNombre[i][0].lower()\n",
        "      atrib[\"primera_letra_vocal_{}\".format(i + 1)] = primerSegundoNombre[i][0].lower() in 'aieou'\n",
        "      atrib[\"ultima_letra_vocal_{}\".format(i + 1)] = primerSegundoNombre[i][-1].lower() in 'aieou'\n",
        "      atrib[\"ultima_letra_{}\".format(i + 1)] = primerSegundoNombre[i][-1].lower()\n",
        "      for letra in 'aeiou':\n",
        "          atrib[\"count({})_{}\".format(letra, i + 1)] = primerSegundoNombre[i].lower().count(letra)\n",
        "          atrib[\"has({})_{}\".format(letra, i + 1)] = (letra in primerSegundoNombre[i].lower())\n",
        "    return atrib"
      ],
      "execution_count": 66,
      "outputs": []
    },
    {
      "cell_type": "markdown",
      "metadata": {
        "id": "kPciRClfwOvQ",
        "colab_type": "text"
      },
      "source": [
        "# **Fase de entrenamiento del Clasificador NaiveBayes**\n",
        "\n",
        "Utilizamos la funcion para preparar la data y luego entrenar el clasificar con la data."
      ]
    },
    {
      "cell_type": "code",
      "metadata": {
        "id": "jEv9wLFdsPpc",
        "colab_type": "code",
        "colab": {}
      },
      "source": [
        "fset = [(atributos4(n), g) for (n, g) in data]\n",
        "train, test = fset[500:], fset[:500]\n",
        "fset\n",
        "classifierEspaniol = nltk.NaiveBayesClassifier.train(train)"
      ],
      "execution_count": 69,
      "outputs": []
    },
    {
      "cell_type": "markdown",
      "metadata": {
        "id": "RdqNYdqXwnpd",
        "colab_type": "text"
      },
      "source": [
        "# **Accuracy de nuestro modelo.**\n",
        "\n",
        "Utilizando el mismo dataset, podemos ver que los resultados de accuracy que nos dio con distintos atributos:\n",
        "\n",
        "* ultimaLetra: 0.792\n",
        "* atributos: 0.8\n",
        "* atributos1: 0.836\n",
        "* atributos2: 0.858\n",
        "* atributos3: 0.858\n",
        "\n",
        "Podriamos decir que la mejor funcion de atributos fue la de **atributos3**, ya que no solo recorrio las vocales y no todas las letras del abecedario y tuvo el mismo performance. \n",
        "\n",
        "**Nota:** Se podria intentar ver que otra informacion obtener del nombre, y ver si es mejor recorrer todo el abecedario o solo las vocales. \n",
        "\n",
        "**Actualizacion 1.**\n",
        "\n",
        "* **atributos4: 0.87**\n",
        "* atributos5: 0.866 *\n",
        "* atributos6: 0.866 **\n",
        "\n",
        "\\* Esto quiere decir que indicando si tiene un segundo nombre baja nuestro accuracy, por lo que deberia ser un dato que no se use. \n",
        "\n",
        "\\** Lo longitud de los nombres no influye tampoco.\n"
      ]
    },
    {
      "cell_type": "code",
      "metadata": {
        "id": "b78oPU3xsRlb",
        "colab_type": "code",
        "colab": {
          "base_uri": "https://localhost:8080/",
          "height": 34
        },
        "outputId": "8446e48d-6eaa-4582-faee-ac2cd5c58598"
      },
      "source": [
        "print(nltk.classify.accuracy(classifierEspaniol, test))"
      ],
      "execution_count": 70,
      "outputs": [
        {
          "output_type": "stream",
          "text": [
            "0.87\n"
          ],
          "name": "stdout"
        }
      ]
    }
  ]
}